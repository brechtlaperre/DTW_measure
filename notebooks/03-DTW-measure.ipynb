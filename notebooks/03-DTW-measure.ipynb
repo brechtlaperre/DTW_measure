{
 "cells": [
  {
   "cell_type": "markdown",
   "metadata": {},
   "source": [
    "# Dynamic Time Warping measure\n",
    "\n",
    "After observing the forecast in notebook `02-LSTM-experiment`, the delayed forecast can clearly be observed in the visualized storms, however, the used metrics do not show the model to give bad performance. We introduce a new measure based on dynamic time warping to detect this kind of error."
   ]
  },
  {
   "cell_type": "code",
   "execution_count": 1,
   "metadata": {},
   "outputs": [
    {
     "name": "stdout",
     "output_type": "stream",
     "text": [
      "/c/Users/u0124144/Documents/DTW_measure\n"
     ]
    }
   ],
   "source": [
    "import pandas as pd\n",
    "import numpy as np\n",
    "%cd ..\n",
    "\n",
    "from src.dtw.dtw_measure import dtw_measure"
   ]
  },
  {
   "cell_type": "code",
   "execution_count": 2,
   "metadata": {},
   "outputs": [],
   "source": [
    "import h5py\n",
    "# Import the data\n",
    "def load_testing_sets(fname='data/processed/datasets.h5'):\n",
    "    with h5py.File(fname, 'r') as f:\n",
    "        test_in = f['test_sets/test_in'][:]\n",
    "        test_out = f['test_sets/test_out'][:]\n",
    "        predict = f['test_sets/prediction'][:]\n",
    "        lookup = f['test_sets/lookup'][:]\n",
    "    return test_in, test_out, predict, lookup.astype('datetime64[s]')\n",
    "\n",
    "test_in, test_out, predict, lookup = load_testing_sets()\n",
    "time_forward = 6"
   ]
  },
  {
   "cell_type": "markdown",
   "metadata": {},
   "source": [
    "An important condition for DTW is that each time series is continuous, e.g. combining independent time series into one and evaluating this will give incorrect results. In notebook `01-data-preparation`, invalid measurements were removed, breaking the test data into a set of continous time series. All of these series must first be identified."
   ]
  },
  {
   "cell_type": "code",
   "execution_count": 3,
   "metadata": {},
   "outputs": [],
   "source": [
    "def extract_continuous_intervals(table):\n",
    "    r'''Check lookup table for time discontinuities\n",
    "    output: \n",
    "        Returns list of continouos times inside the lookup table\n",
    "    '''\n",
    "    lookup = pd.DataFrame(data=np.arange(table.shape[0]), index=pd.to_datetime(table[:,0]))\n",
    "    lookup.index = pd.DatetimeIndex(lookup.index)\n",
    "    # split = [g for n,g in lookup.groupby(pd.Grouper(freq='M')) if g.shape[0] != 0]\n",
    "\n",
    "    min_size = 10\n",
    "    timeseries = []\n",
    "    \n",
    "    #for month in split:\n",
    "    series = lookup.index\n",
    "    while len(series) > 0:\n",
    "        # We can assume that the series starts from non-missing values, so the first diff gives sizes of continous intervals\n",
    "        diff = pd.date_range(series[0], series[-1], freq='H').difference(series)\n",
    "        if len(diff) > 0:\n",
    "            if pd.Timedelta(diff[0] - pd.Timedelta('1h') - series[0])/pd.Timedelta('1h') > min_size:\n",
    "                v1 = lookup.loc[series[0]][0]\n",
    "                v2 = lookup.loc[diff[0] - pd.Timedelta('1h')][0]\n",
    "                timeseries.append([v1, v2])\n",
    "            if pd.Timedelta(series[-1] - diff[-1] - pd.Timedelta('1h'))/pd.Timedelta('1h') > min_size:\n",
    "                v1 = lookup.loc[diff[-1] + pd.Timedelta('1h')][0]\n",
    "                v2 = lookup.loc[series[-1]][0]\n",
    "                timeseries.append([v1, v2])\n",
    "            diff = pd.date_range(diff[0], diff[-1], freq='H').difference(diff)\n",
    "        else:\n",
    "            # Only when diff is empty\n",
    "            v1 = lookup.loc[series[0]][0]\n",
    "            v2 = lookup.loc[series[-1]][0]\n",
    "            timeseries.append([v1, v2])\n",
    "        series = diff\n",
    "        \n",
    "\n",
    "    return np.array(timeseries)\n",
    "intervals = extract_continuous_intervals(lookup)"
   ]
  },
  {
   "cell_type": "markdown",
   "metadata": {},
   "source": [
    "Now that we have continous intervals, the dtw measure is applied to each interval. From the resulting path, we measure the time shift between the mapping. The total counts are summarized in a pandas DataFrame, which is then normalized with `reformat_dtw_res` over the rows to provide a percentage. "
   ]
  },
  {
   "cell_type": "code",
   "execution_count": 4,
   "metadata": {},
   "outputs": [
    {
     "name": "stdout",
     "output_type": "stream",
     "text": [
      "         0        1        2        3        4        5        6\n",
      "1  11602.0  21779.0   1483.0    443.0    171.0     80.0     40.0\n",
      "2   4371.0  12677.0  16096.0   2772.0   1211.0    593.0    321.0\n",
      "3   2950.0   4561.0  11184.0  13628.0   3921.0   2039.0   1465.0\n",
      "4   2883.0   2619.0   4566.0   9661.0  12019.0   4700.0   3793.0\n",
      "5   3166.0   2272.0   2980.0   4627.0   8654.0  10680.0   7581.0\n",
      "6   3253.0   2217.0   2584.0   3261.0   4793.0   8048.0  15078.0\n"
     ]
    }
   ],
   "source": [
    "bincounts = np.zeros((time_forward,7))\n",
    "counter = 0\n",
    "for start, stop in intervals:\n",
    "    counter += 1\n",
    "    for i in range(time_forward):\n",
    "        _, path, _ = dtw_measure(predict[start:stop, 0, i], test_out[start:stop, 0, i], time_forward)\n",
    "        bins, counts = np.unique(abs(path[0, :] - path[1, :]), return_counts=True)\n",
    "        bincounts[i, bins] += counts\n",
    "        \n",
    "lat_res = pd.DataFrame(data=bincounts, index=np.arange(1, time_forward+1), columns=np.arange(7))\n",
    "print(lat_res)"
   ]
  },
  {
   "cell_type": "code",
   "execution_count": 5,
   "metadata": {},
   "outputs": [
    {
     "data": {
      "text/html": [
       "<div>\n",
       "<style scoped>\n",
       "    .dataframe tbody tr th:only-of-type {\n",
       "        vertical-align: middle;\n",
       "    }\n",
       "\n",
       "    .dataframe tbody tr th {\n",
       "        vertical-align: top;\n",
       "    }\n",
       "\n",
       "    .dataframe thead th {\n",
       "        text-align: right;\n",
       "    }\n",
       "</style>\n",
       "<table border=\"1\" class=\"dataframe\">\n",
       "  <thead>\n",
       "    <tr style=\"text-align: right;\">\n",
       "      <th></th>\n",
       "      <th>0h</th>\n",
       "      <th>1h</th>\n",
       "      <th>2h</th>\n",
       "      <th>3h</th>\n",
       "      <th>4h</th>\n",
       "      <th>5h</th>\n",
       "      <th>6h</th>\n",
       "    </tr>\n",
       "    <tr>\n",
       "      <th>Prediction</th>\n",
       "      <th></th>\n",
       "      <th></th>\n",
       "      <th></th>\n",
       "      <th></th>\n",
       "      <th></th>\n",
       "      <th></th>\n",
       "      <th></th>\n",
       "    </tr>\n",
       "  </thead>\n",
       "  <tbody>\n",
       "    <tr>\n",
       "      <th>t+1h</th>\n",
       "      <td>0.300</td>\n",
       "      <td>0.640</td>\n",
       "      <td>0.040</td>\n",
       "      <td>0.012</td>\n",
       "      <td>0.005</td>\n",
       "      <td>0.002</td>\n",
       "      <td>0.001</td>\n",
       "    </tr>\n",
       "    <tr>\n",
       "      <th>t+2h</th>\n",
       "      <td>0.106</td>\n",
       "      <td>0.324</td>\n",
       "      <td>0.442</td>\n",
       "      <td>0.074</td>\n",
       "      <td>0.033</td>\n",
       "      <td>0.014</td>\n",
       "      <td>0.008</td>\n",
       "    </tr>\n",
       "    <tr>\n",
       "      <th>t+3h</th>\n",
       "      <td>0.071</td>\n",
       "      <td>0.106</td>\n",
       "      <td>0.273</td>\n",
       "      <td>0.359</td>\n",
       "      <td>0.102</td>\n",
       "      <td>0.052</td>\n",
       "      <td>0.037</td>\n",
       "    </tr>\n",
       "    <tr>\n",
       "      <th>t+4h</th>\n",
       "      <td>0.070</td>\n",
       "      <td>0.065</td>\n",
       "      <td>0.107</td>\n",
       "      <td>0.227</td>\n",
       "      <td>0.309</td>\n",
       "      <td>0.122</td>\n",
       "      <td>0.099</td>\n",
       "    </tr>\n",
       "    <tr>\n",
       "      <th>t+5h</th>\n",
       "      <td>0.084</td>\n",
       "      <td>0.058</td>\n",
       "      <td>0.070</td>\n",
       "      <td>0.105</td>\n",
       "      <td>0.201</td>\n",
       "      <td>0.273</td>\n",
       "      <td>0.209</td>\n",
       "    </tr>\n",
       "    <tr>\n",
       "      <th>t+6h</th>\n",
       "      <td>0.093</td>\n",
       "      <td>0.059</td>\n",
       "      <td>0.066</td>\n",
       "      <td>0.079</td>\n",
       "      <td>0.109</td>\n",
       "      <td>0.191</td>\n",
       "      <td>0.402</td>\n",
       "    </tr>\n",
       "  </tbody>\n",
       "</table>\n",
       "</div>"
      ],
      "text/plain": [
       "               0h     1h     2h     3h     4h     5h     6h\n",
       "Prediction                                                 \n",
       "t+1h        0.300  0.640  0.040  0.012  0.005  0.002  0.001\n",
       "t+2h        0.106  0.324  0.442  0.074  0.033  0.014  0.008\n",
       "t+3h        0.071  0.106  0.273  0.359  0.102  0.052  0.037\n",
       "t+4h        0.070  0.065  0.107  0.227  0.309  0.122  0.099\n",
       "t+5h        0.084  0.058  0.070  0.105  0.201  0.273  0.209\n",
       "t+6h        0.093  0.059  0.066  0.079  0.109  0.191  0.402"
      ]
     },
     "execution_count": 5,
     "metadata": {},
     "output_type": "execute_result"
    }
   ],
   "source": [
    "def reformat_dtw_res(df, filename=None):\n",
    "    '''Normalize the result from the dtw measure\n",
    "    '''\n",
    "    res = df.div(df.sum(axis=1), axis=0)\n",
    "\n",
    "    shifts = np.array(['t+{}h'.format(i+1) for i in np.arange(res.shape[0])])\n",
    "    res['Prediction'] = shifts.T\n",
    "    res = res.set_index('Prediction')\n",
    "    res.columns = ['{}h'.format(i) for i in res.columns]\n",
    "    res = res.apply(lambda x: round(x, 3))\n",
    "    if filename:\n",
    "        res.to_csv('{}reformated_{}'.format(path, filename))\n",
    "    return res\n",
    "        \n",
    "reformat_dtw_res(lat_res)"
   ]
  }
 ],
 "metadata": {
  "kernelspec": {
   "display_name": "dtw_measure",
   "language": "python",
   "name": "dtw_measure"
  },
  "language_info": {
   "codemirror_mode": {
    "name": "ipython",
    "version": 3
   },
   "file_extension": ".py",
   "mimetype": "text/x-python",
   "name": "python",
   "nbconvert_exporter": "python",
   "pygments_lexer": "ipython3",
   "version": "3.8.2"
  }
 },
 "nbformat": 4,
 "nbformat_minor": 4
}
