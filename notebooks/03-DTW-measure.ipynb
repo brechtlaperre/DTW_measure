{
 "cells": [
  {
   "cell_type": "markdown",
   "metadata": {},
   "source": [
    "# Dynamic Time Warping measure\n",
    "\n",
    "After observing the forecast in notebook `02-LSTM-experiment`, the delayed forecast can clearly be observed in the visualized storms, however, the used metrics do not show the model to give bad performance. We introduce a new measure based on dynamic time warping to detect this kind of error."
   ]
  },
  {
   "cell_type": "code",
   "execution_count": 1,
   "metadata": {},
   "outputs": [],
   "source": [
    "import sys\n",
    "import pandas as pd\n",
    "import numpy as np\n",
    "\n",
    "sys.path.append('../')\n",
    "\n",
    "from src.dtw.dtw_measure import dtw_measure"
   ]
  },
  {
   "cell_type": "code",
   "execution_count": 3,
   "metadata": {},
   "outputs": [],
   "source": [
    "import h5py\n",
    "# Import the data\n",
    "def load_testing_sets(fname='../data/processed/datasets.h5'):\n",
    "    with h5py.File(fname, 'r') as f:\n",
    "        test_in = f['test_sets/test_in'][:]\n",
    "        test_out = f['test_sets/test_out'][:]\n",
    "        predict = f['test_sets/prediction'][:]\n",
    "        lookup = f['test_sets/lookup'][:]\n",
    "    return test_in, test_out, predict, lookup.astype('datetime64[s]')\n",
    "\n",
    "test_in, test_out, predict, lookup = load_testing_sets()\n",
    "time_forward = 6"
   ]
  },
  {
   "cell_type": "markdown",
   "metadata": {},
   "source": [
    "An important condition for DTW is that each time series is continuous, e.g. combining independent time series into one and evaluating this will give incorrect results. In notebook `01-data-preparation`, invalid measurements were removed, breaking the test data into a set of continous time series. All of these series must first be identified."
   ]
  },
  {
   "cell_type": "code",
   "execution_count": 4,
   "metadata": {},
   "outputs": [],
   "source": [
    "def extract_continuous_intervals(table):\n",
    "    r'''Check lookup table for time discontinuities\n",
    "    output: \n",
    "        Returns list of continouos times inside the lookup table\n",
    "    '''\n",
    "    lookup = pd.DataFrame(data=np.arange(table.shape[0]), index=pd.to_datetime(table[:,0]))\n",
    "    lookup.index = pd.DatetimeIndex(lookup.index)\n",
    "    # split = [g for n,g in lookup.groupby(pd.Grouper(freq='M')) if g.shape[0] != 0]\n",
    "\n",
    "    min_size = 10\n",
    "    timeseries = []\n",
    "    \n",
    "    #for month in split:\n",
    "    series = lookup.index\n",
    "    while len(series) > 0:\n",
    "        # We can assume that the series starts from non-missing values, so the first diff gives sizes of continous intervals\n",
    "        diff = pd.date_range(series[0], series[-1], freq='H').difference(series)\n",
    "        if len(diff) > 0:\n",
    "            if pd.Timedelta(diff[0] - pd.Timedelta('1h') - series[0])/pd.Timedelta('1h') > min_size:\n",
    "                v1 = lookup.loc[series[0]][0]\n",
    "                v2 = lookup.loc[diff[0] - pd.Timedelta('1h')][0]\n",
    "                timeseries.append([v1, v2])\n",
    "            if pd.Timedelta(series[-1] - diff[-1] - pd.Timedelta('1h'))/pd.Timedelta('1h') > min_size:\n",
    "                v1 = lookup.loc[diff[-1] + pd.Timedelta('1h')][0]\n",
    "                v2 = lookup.loc[series[-1]][0]\n",
    "                timeseries.append([v1, v2])\n",
    "            diff = pd.date_range(diff[0], diff[-1], freq='H').difference(diff)\n",
    "        else:\n",
    "            # Only when diff is empty\n",
    "            v1 = lookup.loc[series[0]][0]\n",
    "            v2 = lookup.loc[series[-1]][0]\n",
    "            timeseries.append([v1, v2])\n",
    "        series = diff\n",
    "        \n",
    "\n",
    "    return np.array(timeseries)\n",
    "intervals = extract_continuous_intervals(lookup)"
   ]
  },
  {
   "cell_type": "markdown",
   "metadata": {},
   "source": [
    "Now that we have continous intervals, the dtw measure is applied to each interval. From the resulting path, we measure the time shift between the mapping. The total counts are summarized in a pandas DataFrame, which is then normalized with `reformat_dtw_res` over the rows to provide a percentage. "
   ]
  },
  {
   "cell_type": "code",
   "execution_count": 5,
   "metadata": {},
   "outputs": [
    {
     "name": "stdout",
     "output_type": "stream",
     "text": [
      "         0        1        2        3        4        5        6\n",
      "1  10753.0  22537.0   1396.0    444.0    175.0     96.0     51.0\n",
      "2   3911.0  12359.0  16762.0   2835.0   1284.0    577.0    319.0\n",
      "3   2905.0   4163.0  10566.0  14300.0   4014.0   2179.0   1578.0\n",
      "4   2790.0   2648.0   4309.0   9123.0  12396.0   4899.0   4046.0\n",
      "5   3273.0   2319.0   2822.0   4228.0   8072.0  10761.0   8302.0\n",
      "6   3692.0   2230.0   2594.0   3013.0   4277.0   7342.0  15777.0\n"
     ]
    }
   ],
   "source": [
    "bincounts = np.zeros((time_forward,7))\n",
    "counter = 0\n",
    "for start, stop in intervals:\n",
    "    counter += 1\n",
    "    for i in range(time_forward):\n",
    "        _, path, _ = dtw_measure(predict[start:stop, 0, i], test_out[start:stop, 0, i], time_forward)\n",
    "        bins, counts = np.unique(abs(path[0, :] - path[1, :]), return_counts=True)\n",
    "        bincounts[i, bins] += counts\n",
    "        \n",
    "lat_res = pd.DataFrame(data=bincounts, index=np.arange(1, time_forward+1), columns=np.arange(7))\n",
    "print(lat_res)"
   ]
  },
  {
   "cell_type": "code",
   "execution_count": 6,
   "metadata": {},
   "outputs": [
    {
     "data": {
      "text/html": [
       "<div>\n",
       "<style scoped>\n",
       "    .dataframe tbody tr th:only-of-type {\n",
       "        vertical-align: middle;\n",
       "    }\n",
       "\n",
       "    .dataframe tbody tr th {\n",
       "        vertical-align: top;\n",
       "    }\n",
       "\n",
       "    .dataframe thead th {\n",
       "        text-align: right;\n",
       "    }\n",
       "</style>\n",
       "<table border=\"1\" class=\"dataframe\">\n",
       "  <thead>\n",
       "    <tr style=\"text-align: right;\">\n",
       "      <th></th>\n",
       "      <th>0h</th>\n",
       "      <th>1h</th>\n",
       "      <th>2h</th>\n",
       "      <th>3h</th>\n",
       "      <th>4h</th>\n",
       "      <th>5h</th>\n",
       "      <th>6h</th>\n",
       "    </tr>\n",
       "    <tr>\n",
       "      <th>Prediction</th>\n",
       "      <th></th>\n",
       "      <th></th>\n",
       "      <th></th>\n",
       "      <th></th>\n",
       "      <th></th>\n",
       "      <th></th>\n",
       "      <th></th>\n",
       "    </tr>\n",
       "  </thead>\n",
       "  <tbody>\n",
       "    <tr>\n",
       "      <th>t+1h</th>\n",
       "      <td>0.303</td>\n",
       "      <td>0.636</td>\n",
       "      <td>0.039</td>\n",
       "      <td>0.013</td>\n",
       "      <td>0.005</td>\n",
       "      <td>0.003</td>\n",
       "      <td>0.001</td>\n",
       "    </tr>\n",
       "    <tr>\n",
       "      <th>t+2h</th>\n",
       "      <td>0.103</td>\n",
       "      <td>0.325</td>\n",
       "      <td>0.441</td>\n",
       "      <td>0.075</td>\n",
       "      <td>0.034</td>\n",
       "      <td>0.015</td>\n",
       "      <td>0.008</td>\n",
       "    </tr>\n",
       "    <tr>\n",
       "      <th>t+3h</th>\n",
       "      <td>0.073</td>\n",
       "      <td>0.105</td>\n",
       "      <td>0.266</td>\n",
       "      <td>0.360</td>\n",
       "      <td>0.101</td>\n",
       "      <td>0.055</td>\n",
       "      <td>0.040</td>\n",
       "    </tr>\n",
       "    <tr>\n",
       "      <th>t+4h</th>\n",
       "      <td>0.069</td>\n",
       "      <td>0.066</td>\n",
       "      <td>0.107</td>\n",
       "      <td>0.227</td>\n",
       "      <td>0.308</td>\n",
       "      <td>0.122</td>\n",
       "      <td>0.101</td>\n",
       "    </tr>\n",
       "    <tr>\n",
       "      <th>t+5h</th>\n",
       "      <td>0.082</td>\n",
       "      <td>0.058</td>\n",
       "      <td>0.071</td>\n",
       "      <td>0.106</td>\n",
       "      <td>0.203</td>\n",
       "      <td>0.271</td>\n",
       "      <td>0.209</td>\n",
       "    </tr>\n",
       "    <tr>\n",
       "      <th>t+6h</th>\n",
       "      <td>0.095</td>\n",
       "      <td>0.057</td>\n",
       "      <td>0.067</td>\n",
       "      <td>0.077</td>\n",
       "      <td>0.110</td>\n",
       "      <td>0.189</td>\n",
       "      <td>0.405</td>\n",
       "    </tr>\n",
       "  </tbody>\n",
       "</table>\n",
       "</div>"
      ],
      "text/plain": [
       "               0h     1h     2h     3h     4h     5h     6h\n",
       "Prediction                                                 \n",
       "t+1h        0.303  0.636  0.039  0.013  0.005  0.003  0.001\n",
       "t+2h        0.103  0.325  0.441  0.075  0.034  0.015  0.008\n",
       "t+3h        0.073  0.105  0.266  0.360  0.101  0.055  0.040\n",
       "t+4h        0.069  0.066  0.107  0.227  0.308  0.122  0.101\n",
       "t+5h        0.082  0.058  0.071  0.106  0.203  0.271  0.209\n",
       "t+6h        0.095  0.057  0.067  0.077  0.110  0.189  0.405"
      ]
     },
     "execution_count": 6,
     "metadata": {},
     "output_type": "execute_result"
    }
   ],
   "source": [
    "def reformat_dtw_res(df, filename=None):\n",
    "    '''Normalize the result from the dtw measure\n",
    "    '''\n",
    "    res = df.div(df.sum(axis=1), axis=0)\n",
    "\n",
    "    shifts = np.array(['t+{}h'.format(i+1) for i in np.arange(res.shape[0])])\n",
    "    res['Prediction'] = shifts.T\n",
    "    res = res.set_index('Prediction')\n",
    "    res.columns = ['{}h'.format(i) for i in res.columns]\n",
    "    res = res.apply(lambda x: round(x, 3))\n",
    "    if filename:\n",
    "        res.to_csv('{}reformated_{}'.format(path, filename))\n",
    "    return res\n",
    "        \n",
    "reformat_dtw_res(lat_res)"
   ]
  },
  {
   "cell_type": "code",
   "execution_count": null,
   "metadata": {},
   "outputs": [],
   "source": []
  }
 ],
 "metadata": {
  "kernelspec": {
   "display_name": "dtw_measure",
   "language": "python",
   "name": "dtw_measure"
  },
  "language_info": {
   "codemirror_mode": {
    "name": "ipython",
    "version": 3
   },
   "file_extension": ".py",
   "mimetype": "text/x-python",
   "name": "python",
   "nbconvert_exporter": "python",
   "pygments_lexer": "ipython3",
   "version": "3.8.2"
  }
 },
 "nbformat": 4,
 "nbformat_minor": 4
}
