{
 "cells": [
  {
   "cell_type": "markdown",
   "metadata": {},
   "source": [
    "# Persistence model\n",
    "\n",
    "The persistence model is used as a reference model for both the LSTM and the DTW measure."
   ]
  },
  {
   "cell_type": "code",
   "execution_count": 1,
   "metadata": {},
   "outputs": [
    {
     "name": "stdout",
     "output_type": "stream",
     "text": [
      "/c/Users/u0124144/Documents/DTW_measure\n"
     ]
    }
   ],
   "source": [
    "import numpy as np\n",
    "import pandas as pd\n",
    "%cd ..\n",
    "from src.data.build_input import controlled_train_test_split\n",
    "from src.dtw.dtw_measure import dtw_measure\n",
    "from src.model.metrics import evaluate"
   ]
  },
  {
   "cell_type": "code",
   "execution_count": 2,
   "metadata": {},
   "outputs": [],
   "source": [
    "startdate = '14-01-2001'\n",
    "enddate = '01-01-2016'\n",
    "\n",
    "data = pd.read_hdf('data/interim/data.h5', 'data')\n",
    "data = data[startdate:enddate]\n",
    "_, test = controlled_train_test_split(data)\n",
    "output = 'Dst'\n",
    "time_forward = 6"
   ]
  },
  {
   "cell_type": "code",
   "execution_count": 5,
   "metadata": {},
   "outputs": [],
   "source": [
    "def extract_cont_intervals_from_index(index):\n",
    "    r'''Check lookup table for time discontinuities\n",
    "    output: \n",
    "        Returns list of continouos times inside the lookup table\n",
    "    '''\n",
    "    min_size = 10\n",
    "    timeseries = []\n",
    "    p = True\n",
    "    series = index\n",
    "    \n",
    "    while len(series) > 0:\n",
    "        # We can assume that the series starts from non-missing values, so the first diff gives sizes of continous intervals\n",
    "        diff = pd.date_range(series[0], series[-1], freq='H').difference(series)\n",
    "        if len(diff) > 0:\n",
    "            if pd.Timedelta(diff[0] - pd.Timedelta('1h') - series[0])/pd.Timedelta('1h') > min_size:\n",
    "                v1 = np.datetime64(series[0])\n",
    "                v2 = np.datetime64(diff[0] - pd.Timedelta('1h'))\n",
    "                timeseries.append([v1, v2])\n",
    "            if pd.Timedelta(series[-1] - diff[-1] - pd.Timedelta('1h'))/pd.Timedelta('1h') > min_size:\n",
    "                v1 = np.datetime64(diff[-1] + pd.Timedelta('1h'))\n",
    "                v2 = np.datetime64(series[-1])\n",
    "                timeseries.append([v1, v2])\n",
    "            diff = pd.date_range(diff[0], diff[-1], freq='H').difference(diff)\n",
    "        else:\n",
    "            # Only when diff is empty\n",
    "            v1 = np.datetime64(series[0])\n",
    "            v2 = np.datetime64(series[-1])\n",
    "            timeseries.append([v1, v2])\n",
    "        series = diff\n",
    "        \n",
    "\n",
    "    return np.array(timeseries)"
   ]
  },
  {
   "cell_type": "code",
   "execution_count": 6,
   "metadata": {},
   "outputs": [],
   "source": [
    "def persistence_predict(data, time):\n",
    "    '''Forecast a given feature for a given forecast time\n",
    "    Input:\n",
    "        data: pandas dataframe containing all the to be forecasted features\n",
    "        time: time to be forecasted\n",
    "    Output:\n",
    "        res: panas dataframe \n",
    "    '''\n",
    "    res = data.shift(time)\n",
    "    return res"
   ]
  },
  {
   "cell_type": "code",
   "execution_count": 7,
   "metadata": {},
   "outputs": [],
   "source": [
    "def persistence_dtw_measure(data, time_forward):\n",
    "    # Allow only one feature at the time\n",
    "    assert(data.shape[1] == 1)\n",
    "    \n",
    "    pers = data.copy()\n",
    "    for i in range(time_forward):\n",
    "        pers['T_{}'.format(i+1)] = persistence_predict(data, i+1)\n",
    "    pers = pers.dropna() # remove NaN-values\n",
    "    intervals = extract_cont_intervals_from_index(pers.index)\n",
    "    \n",
    "    bincounts = np.zeros((time_forward,7))\n",
    "    length = intervals.shape[0]\n",
    "    for num, (start, stop) in enumerate(intervals):\n",
    "        print('{} out of {}'.format(num+1, length))\n",
    "        month = pers[start:stop]\n",
    "        for i in range(time_forward):\n",
    "            # dtw_measure(forecast, truth, warping path)\n",
    "            _, path, _ = dtw_measure(month['T_{}'.format(i+1)].to_numpy(), month.iloc[:,0].to_numpy(), 6)\n",
    "            bins, counts = np.unique(abs(path[0, :] - path[1, :]), return_counts=True)\n",
    "            bincounts[i, bins] += counts\n",
    "\n",
    "    bincounts = pd.DataFrame(data=bincounts, index=np.arange(1, time_forward+1), columns=np.arange(7))\n",
    "    return bincounts"
   ]
  },
  {
   "cell_type": "code",
   "execution_count": 8,
   "metadata": {},
   "outputs": [
    {
     "name": "stdout",
     "output_type": "stream",
     "text": [
      "1 out of 45\n",
      "2 out of 45\n",
      "3 out of 45\n",
      "4 out of 45\n",
      "5 out of 45\n",
      "6 out of 45\n",
      "7 out of 45\n",
      "8 out of 45\n",
      "9 out of 45\n",
      "10 out of 45\n",
      "11 out of 45\n",
      "12 out of 45\n",
      "13 out of 45\n",
      "14 out of 45\n",
      "15 out of 45\n",
      "16 out of 45\n",
      "17 out of 45\n",
      "18 out of 45\n",
      "19 out of 45\n",
      "20 out of 45\n",
      "21 out of 45\n",
      "22 out of 45\n",
      "23 out of 45\n",
      "24 out of 45\n",
      "25 out of 45\n",
      "26 out of 45\n",
      "27 out of 45\n",
      "28 out of 45\n",
      "29 out of 45\n",
      "30 out of 45\n",
      "31 out of 45\n",
      "32 out of 45\n",
      "33 out of 45\n",
      "34 out of 45\n",
      "35 out of 45\n",
      "36 out of 45\n",
      "37 out of 45\n",
      "38 out of 45\n",
      "39 out of 45\n",
      "40 out of 45\n",
      "41 out of 45\n",
      "42 out of 45\n",
      "43 out of 45\n",
      "44 out of 45\n",
      "45 out of 45\n"
     ]
    },
    {
     "data": {
      "text/plain": [
       "{'A': array([-0.29857926, -0.78020272, -1.23413816, -1.6390297 , -2.00548404,\n",
       "        -2.3500695 ]),\n",
       " 'B': array([0.97539883, 0.93552117, 0.89797194, 0.86455615, 0.83441127,\n",
       "        0.80617974]),\n",
       " 'sigmaA': array([0.12193412, 0.12205529, 0.12219919, 0.12236647, 0.12256061,\n",
       "        0.12277253]),\n",
       " 'sigmaB': array([0.00550109, 0.00550655, 0.00551305, 0.00552059, 0.00552935,\n",
       "        0.00553891]),\n",
       " 'R': array([0.97448187, 0.93371385, 0.89518176, 0.86069157, 0.82936564,\n",
       "        0.79992165]),\n",
       " 'RMSE': array([ 4.21476204,  6.79638847,  8.55155521,  9.86547997, 10.92735439,\n",
       "        11.84314043]),\n",
       " 'MAE': array([2.67013018, 4.37683874, 5.51173468, 6.32410064, 6.96015948,\n",
       "        7.49723623]),\n",
       " 'ME': array([-0.00380584, -0.00761168, -0.01162896, -0.01612952, -0.02138521,\n",
       "        -0.02769807]),\n",
       " 'PE': array([0.94891479, 0.86716717, 0.78970001, 0.72011123, 0.65661676,\n",
       "        0.59664932])}"
      ]
     },
     "execution_count": 8,
     "metadata": {},
     "output_type": "execute_result"
    }
   ],
   "source": [
    "def persistence_eval(features, time_forward, dtw=True):\n",
    "    r'''Evaluation of the persistence model. \n",
    "    This model does the standard metric test, together with a dtw count. \n",
    "    The dtw count keeps into consideration discontinuities, splitting the data\n",
    "    in continuous pieces first.\n",
    "    Evaluates times [1, 2, ..., time_forward]\n",
    "    Input:\n",
    "        data: Pandas dataframe with DateTime index and to be forecasted features\n",
    "        time_forward: Number of hours evaluated\n",
    "        dtw: boolean, run dtw measure when true\n",
    "    Output:\n",
    "        dtw-result is written to a file directly\n",
    "        res: Metric evaluation\n",
    "    '''\n",
    "    if dtw:\n",
    "        bincounts = persistence_dtw_measure(features, time_forward)\n",
    "    else:\n",
    "        bincounts = None\n",
    "    \n",
    "    data_all = np.repeat(features.to_numpy()[time_forward+1:-time_forward], time_forward, axis=1)\n",
    "    pers_all = np.zeros(data_all.shape)\n",
    "    for i, t in enumerate(range(1, 1+time_forward)):\n",
    "        persist = persistence_predict(features, t)\n",
    "        pers_all[:, t-1] = persist.to_numpy()[time_forward+1:-time_forward, 0]\n",
    "        i += 1\n",
    "    res = evaluate(pers_all, data_all)\n",
    "    return res, bincounts\n",
    "\n",
    "pers_res, bincounts = persistence_eval(test[[output]], 6)\n",
    "pers_res"
   ]
  }
 ],
 "metadata": {
  "kernelspec": {
   "display_name": "dtw_measure",
   "language": "python",
   "name": "dtw_measure"
  },
  "language_info": {
   "codemirror_mode": {
    "name": "ipython",
    "version": 3
   },
   "file_extension": ".py",
   "mimetype": "text/x-python",
   "name": "python",
   "nbconvert_exporter": "python",
   "pygments_lexer": "ipython3",
   "version": "3.8.2"
  }
 },
 "nbformat": 4,
 "nbformat_minor": 4
}
